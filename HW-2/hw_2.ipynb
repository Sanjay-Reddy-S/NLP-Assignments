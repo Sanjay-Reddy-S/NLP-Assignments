{
 "cells": [
  {
   "cell_type": "markdown",
   "metadata": {},
   "source": [
    "## Homework 2, Intro to NLP, 2017\n",
    "\n",
    "#### This is due at 11pm on Tuesday, October 10. Please see detailed submission instructions below.  100 points total.\n",
    "\n",
    "##### How to do this problem set:\n",
    "\n",
    "- What version of Python should I use? 2.7\n",
    "\n",
    "- Most of these questions require writing Python code and computing results, and the rest of them have textual answers. To generate the answers, you will have to fill out supporting files, `vit_starter.py`,`classperc.py` and `structperc.py`.\n",
    "\n",
    "- Write all the answers in this ipython notebook. Once you are finished (1) Generate a PDF via (File -> Download As -> PDF) and upload to Gradescope (2)Turn in `vit_starter.py`, `classperc.py`, `structperc.py` and `hw_2.ipynb` on Moodle.\n",
    "  \n",
    "- **Important:** Check your PDF before you turn it in to gradescope to make sure it exported correctly. If ipython notebook gets confused about your syntax it will sometimes terminate the PDF creation routine early. You are responsible for checking for these errors. If your whole PDF does not print, try running `$jupyter nbconvert --to pdf hw_1.ipynb` to identify and fix any syntax errors that might be causing problems.\n",
    "\n",
    "- **Important:** When creating your final version of the PDF to hand in, please do a fresh restart and execute every cell in order. Then you'll be sure it's actually right. One convenient way to do this is by clicking `Cell -> Run All` in the notebook menu.\n",
    " "
   ]
  },
  {
   "cell_type": "markdown",
   "metadata": {},
   "source": [
    "##### Academic honesty \n",
    "\n",
    "- We will audit the Moodle code from a few dozen students, chosen at random. The audits will check that the code you wrote and turned on Moodle generates the answers you turn in on your Gradescope PDF. If you turn in correct answers on your PDF without code that actually generates those answers, we will consider this a potential case of cheating. See the course page for honesty policies.\n",
    "\n",
    "- We will also run automatic checks of code on Moodle for plagiarism. Copying code from others is considered a serious case of cheating."
   ]
  },
  {
   "cell_type": "markdown",
   "metadata": {},
   "source": [
    "## 1. HMM (15 points)"
   ]
  },
  {
   "cell_type": "markdown",
   "metadata": {},
   "source": [
    "Answer the following questions using the transition matrix\n",
    "$T$ and emission probabilities $E$ below. Below, $\\Delta$ and $\\Box$\n",
    "are two output variables, $A$ and $B$ are two hidden states; $s_n$ refers to\n",
    "the $n^{th}$ hidden state in the sequence and $o_n$ refers to the\n",
    "$n^{th}$ observation.\n",
    "\n",
    "<img src=\"2.png\"> \n",
    "\n",
    "For all the questions in this section, write answer and show your work."
   ]
  },
  {
   "cell_type": "markdown",
   "metadata": {},
   "source": [
    "**Question 1.1 (2 points)**\n",
    "\n",
    "Does $P(o_2=\\Delta|s_1=B) = P(o_2=\\Delta|o_1=\\Box)$?\n",
    "\n",
    "No\n",
    "\n",
    "P(o2=Δ|s1=B)=0.4x0.3+0.4x0.5=0.32\n",
    "\n",
    "For RHS:\n",
    "1. P(A|◻)=0.5/(0.5+0.7)=0.4167 and P(B|◻)=0.7/(0.5+0.7)=0.5833 (As expected their sum is 1)\n",
    "2. P(o2=Δ|o1=◻)=P(o2=Δ|s1=A)*0.4167 + P(o2=Δ|s1=A)*0.5833= 0.4167(0.2x0.5+0.3x0.3)+0.5833(0.4x0.3+0.4x0.5)\n",
    "3. P(o2=Δ|o1=◻)=0.2658"
   ]
  },
  {
   "cell_type": "code",
   "execution_count": null,
   "metadata": {
    "collapsed": true
   },
   "outputs": [],
   "source": [
    "\n"
   ]
  },
  {
   "cell_type": "markdown",
   "metadata": {},
   "source": [
    "**Question 1.2 (2 points)**\n",
    "\n",
    "Does $P(s_2=B|s_1=A) = P(s_2=B|s_1=A, o_1 = \\Delta)$?\n",
    "\n",
    "1. Yes\n",
    "2. Here, observations in previous steps do not affect the future hidden states. The information that o1 occured earlier (in conjunction with the occurence of s1) will not affect the probability of occurence of s2.\n",
    "3. Thus, P(s2=B|s1=A,o1=Δ)=P(s2=B|s1=A)"
   ]
  },
  {
   "cell_type": "code",
   "execution_count": null,
   "metadata": {
    "collapsed": true
   },
   "outputs": [],
   "source": [
    "\n"
   ]
  },
  {
   "cell_type": "markdown",
   "metadata": {},
   "source": [
    "**Question 1.3 (3 points)**\n",
    "\n",
    "Does $P(o_2=\\Delta|s_1=A) = P(o_2=\\Box|s_1=A, s_3=A)$\n",
    "\n",
    "1. NO\n",
    "2. Consider the RHS. Here, given s3 will impact what s2 is (For s3='A' s2 being =B has higher probability than s2=A). This will in turn affect what o2's probability. The informaton in this probability graph can flow from future states also.\n",
    "3. But in LHS, only s1 is present. Thus, they shouldn't be equal"
   ]
  },
  {
   "cell_type": "code",
   "execution_count": null,
   "metadata": {
    "collapsed": true
   },
   "outputs": [],
   "source": []
  },
  {
   "cell_type": "markdown",
   "metadata": {},
   "source": [
    "**Question 1.4 (3 points)**\n",
    "\n",
    "Compute the probability of observing $\\Box$ as the first emission of a sequence generated by an HMM with transition\n",
    "matrix $T$ and emission probabilities $E$.\n",
    "\n",
    "P(o1=$\\Box$) = P(o1=$\\Box$|s1=A)*P(s1=A) + P(o1=$\\Box$|s1=B)*P(s1=B) = 0.5x0.5+0.5x0.7=0.6"
   ]
  },
  {
   "cell_type": "code",
   "execution_count": null,
   "metadata": {
    "collapsed": true
   },
   "outputs": [],
   "source": [
    "\n"
   ]
  },
  {
   "cell_type": "markdown",
   "metadata": {},
   "source": [
    "**Question 1.5 (5 points)**\n",
    "\n",
    "Compute the probability of the first state being $A$ given that the last token in an observed sequence of length 2\n",
    "was the token $\\Delta$.\n",
    "\n",
    "Let us solve in reverse direction.\n",
    "There are 4 sequences of length 2: (A,A,Δ), (A,B,Δ), (B,A,Δ), (B,B,Δ)\n",
    "\n",
    "Thus required probability is P(A,A,Δ)+P(A,B,Δ)/P(A,A,Δ)+(A,B,Δ)+(B,A,Δ)+(B,B,Δ)\n",
    "\n",
    "Here, \n",
    "P(A,A,Δ)=P(A|A)*P(Δ|A)= 0.2x0.5\n",
    "\n",
    "P(A,B,Δ)=P(A|B)*P(Δ|B)= 0.3x0.3\n",
    "\n",
    "P(B,B,Δ)=P(B|B)*P(Δ|B)= 0.4x0.3\n",
    "\n",
    "P(B,A,Δ)=P(B|A)*P(Δ|A)= 0.4x0.5\n",
    "\n",
    "Thus, Answer=0.19/0.51=0.3725\n",
    "\n",
    "Note: Here Start to A and B both is 0.5 so it'll cancel throughout in numerator and denominator.\n",
    "I'm assuming the sequence goes on and hence, end state is not included.\n",
    "\n"
   ]
  },
  {
   "cell_type": "code",
   "execution_count": null,
   "metadata": {
    "collapsed": true
   },
   "outputs": [],
   "source": [
    "\n"
   ]
  },
  {
   "cell_type": "markdown",
   "metadata": {},
   "source": [
    "## 2. Viterbi (log-additive form) (20 points)"
   ]
  },
  {
   "cell_type": "markdown",
   "metadata": {},
   "source": [
    "<img src=\"1.png\"> \n",
    "\n",
    "\n",
    "\n",
    "One HMM chain is shown on the left.  The corresponding **factor graph** version is shown on the right.\n",
    "This simply shows the structure of the $A$ and $B_t$ log-prob tables and which variables they express\n",
    "preferences over. $A$ is the **transition factor** that has preferences for the two neighboring\n",
    "variables; for example, $A(y_1,y_2)$ shows how happy the model is with the transition from $y_1$ to $y_2$.\n",
    "The same transition preference function is used at all positions $(t-1,t)$ for each $t=2..T$.\n",
    "$B_t$ is the **emission factor** that has preferences for the variable $y_t$.\n",
    "As a goodness function it is e.g. $B_1(y_1)$, $B_2(y_2)$, etc.\n",
    "\n",
    "Let $\\vec{y} = (y_1,y_2,...,y_T)$, a proposed tag sequence for a $T$ length sentence.\n",
    "The total goodness function for a solution $\\vec{y}$ is\n",
    "\n",
    "$$ G(\\vec{y}) = \\sum_{t=1}^{T} B_t(y_t)  + \\sum_{t=2}^{T} A(y_{t-1},y_t) $$\n"
   ]
  },
  {
   "cell_type": "markdown",
   "metadata": {},
   "source": [
    "**Question 2.1 (2 points)**\n",
    "\n",
    "Define $A$ and $B_t$ in terms of the HMM model, such that $G$ is the same thing as $\\log p(\\vec{y},\\vec{w})$ under the HMM.\n",
    "\n",
    "A($y_{t-1},y_t$)=log P($y_t|y_{t-1}$) #log of Transition Probability\n",
    "\n",
    "$B_t(y_t)$=log P($w_t|y_t$) #log of Emission Probability"
   ]
  },
  {
   "cell_type": "code",
   "execution_count": null,
   "metadata": {
    "collapsed": true
   },
   "outputs": [],
   "source": []
  },
  {
   "cell_type": "markdown",
   "metadata": {},
   "source": [
    "**Question 2.2 (18 points)**\n",
    "\n",
    "Implement additive log-space Viterbi by completing the **viterbi()** function. It takes in tables that represent the $A$ and $B$ functions as input.  We give you an implementation of $G()$ in **vit_starter**, you can check to make sure you understand the data structures, and also the exhaustive decoding algorithm too.  Feel free to add debugging print statements as needed.  The main code runs the exercise example by default.\n",
    "\n",
    "When debugging, you should make new A and B examples that are very simple. This will test different code paths.  Also you can try the **randomized\\_test()** from the starter code.\n",
    "\n",
    "Look out for negative indexes as a bug.  In python, if you use an index that's too high to be in the list, it throws an error.  But it will silently accept a negative index ... it interprets that as indexing from the right.\n"
   ]
  },
  {
   "cell_type": "code",
   "execution_count": 1,
   "metadata": {},
   "outputs": [
    {
     "name": "stdout",
     "output_type": "stream",
     "text": [
      "Exhaustive decoding: [0, 0, 0]\n",
      "score: 36\n",
      "Viterbi    decoding: [0, 0, 0]\n"
     ]
    }
   ],
   "source": [
    "# Implement the viterbi() function in vit_starter.py and then run this cell to show your output\n",
    "\n",
    "from vit_starter import *\n",
    "\n",
    "if __name__=='__main__':\n",
    "    A = {(0,0):3, (0,1):0, (1,0):0, (1,1):3}\n",
    "    Bs= [ [0,1], [0,1], [30,0] ]\n",
    "    # that's equivalent to: [ {0:0,1:1}, {0:0,1:1}, {0:30,1:0} ]\n",
    "\n",
    "    y = exhaustive(A, Bs, set([0,1]))\n",
    "    print \"Exhaustive decoding:\", y\n",
    "    print \"score:\", goodness_score(y, A, Bs)\n",
    "    y = viterbi(A, Bs, set([0,1]))\n",
    "    print \"Viterbi    decoding:\", y\n"
   ]
  },
  {
   "cell_type": "markdown",
   "metadata": {},
   "source": [
    "**Copy and paste the viterbi function that you implemented in `vit_starter.py`.**"
   ]
  },
  {
   "cell_type": "code",
   "execution_count": 2,
   "metadata": {
    "collapsed": true
   },
   "outputs": [],
   "source": [
    "def viterbi(A_factor, B_factors, output_vocab):\n",
    "    \"\"\"\n",
    "    A_factor: a dict of key:value pairs of the form\n",
    "        {(curtag,nexttag): score}\n",
    "    with keys for all K^2 possible neighboring combinations,\n",
    "    and scores are numbers.  We assume they should be used ADDITIVELY, i.e. in log space.\n",
    "    higher scores mean MORE PREFERRED by the model.\n",
    "\n",
    "    B_factors: a list where each entry is a dict {tag:score}, so like\n",
    "    [ {Noun:-1.2, Adj:-3.4}, {Noun:-0.2, Adj:-7.1}, .... ]\n",
    "    each entry in the list corresponds to each position in the input.\n",
    "\n",
    "    output_vocab: a set of strings, which is the vocabulary of possible output\n",
    "    symbols.\n",
    "\n",
    "    RETURNS:\n",
    "    the tag sequence yvec with the highest goodness score\n",
    "    \"\"\"\n",
    "\n",
    "    N = len(B_factors)   # length of input sentence\n",
    "\n",
    "    # viterbi log-prob tables #List of dictionaries\n",
    "    V = [{tag:None for tag in output_vocab} for t in range(N)]\n",
    "    # backpointer tables #List of dictionaries\n",
    "    # back[0] could be left empty. it will never be used.\n",
    "    back = [{tag:None for tag in output_vocab} for t in range(N)] \n",
    "\n",
    "    # todo implement the main viterbi loop here\n",
    "    # you may want to handle the t=0 case separately\n",
    "    for i in output_vocab:\n",
    "        V[0][i]=B_factors[0][i]\n",
    "    #print V\n",
    "    for t in range(1,N):\n",
    "        for i in output_vocab:\n",
    "            viter_values=[]\n",
    "            for j in output_vocab:\n",
    "                viter_values.append((V[t-1][j]+A_factor[(j,i)]+B_factors[t][i]))\n",
    "            V[t][i]=max(viter_values)\n",
    "            back[t][i]=viter_values.index(V[t][i])\n",
    "    # todo implement backtrace also\n",
    "    #print V\n",
    "    #print back\n",
    "    idx=dict_argmax(V[-1])\n",
    "    # dummy return value\n",
    "    #return [None for t in range(N)]\n",
    "    seq=[idx]\n",
    "    output_vocab_list=list(output_vocab)\n",
    "    for i in range(N-1,0,-1):\n",
    "        idx=output_vocab_list[back[i][idx]]\n",
    "        seq.append(idx)\n",
    "    seq.reverse()\n",
    "    return seq"
   ]
  },
  {
   "cell_type": "markdown",
   "metadata": {},
   "source": [
    "## 3. Averaged Perceptron (5 points)"
   ]
  },
  {
   "cell_type": "markdown",
   "metadata": {},
   "source": [
    "We will be using the following definition of the perceptron, which is\n",
    "the multiclass or structured version of the perceptron.\n",
    "The training set is a bunch of input-output pairs $(x_i,y_i)$.\n",
    "(For classification, $y_i$ is a label, but for tagging, $y_i$ is a sequence). The training algorithm is as follows:\n",
    "\n",
    "For T iterations, iterate through each $(x_i,y_i)$ pair in the dataset, and for each,\n",
    "   1. Predict $y^* := \\arg\\max_{y'} \\theta^T f(x_i, y')$\n",
    "   2. If $y_i \\neq y^*$: then update $\\theta := \\theta^{(old)} + r g$\n",
    "\n",
    "\n",
    "where $r$ is a fixed step size (e.g. $r=1$)\n",
    "and $g$ is the *gradient vector*, meaning a vector that will get added\n",
    "into $\\theta$ for the update, specifically\n",
    "$$ g = \\underbrace{f(x_i,y_i)}_{\\text{feats of true output}} -  \\underbrace{f(x_i,y^*)}_{\\text{feats of predicted output}} $$\n",
    "\n",
    "Both in theory and in practice, the predictive accuracy of a model trained by the structured perceptron will be better if we use the average value of $\\theta$ over the course of training, rather than the final value of $\\theta$. This is because $\\theta$ wanders around and doesn't converge (typically), because it overfits to whatever data it saw most recently.\n",
    "After seeing $t$ training examples, define the *averaged parameter vector* as\n",
    "<img src=\"4.png\"> \n",
    "\n",
    "where $\\theta_{t'}$ is the weight vector after $t'$ updates.  (We are counting $t$ by the number of training examples, not passes through the data.  So if you had 1000 examples and made 10 passes through the data in order, the final time you see the final example is $t=10000$.)\n",
    "For training, you still use the current $\\theta$ parameter for predictions.\n",
    "But at the very end,\n",
    "you return the $\\bar{\\theta}$, not $\\theta$, as your final model parameters to use on test data.\n",
    "\n",
    "Directly implementing equation (1) would be really slow.  So here's a better algorithm.  This is the same as in Hal Daume's CIML chapter on perceptrons, but adapted for the structured case (as opposed to Daume's algorithm, which assumes binary output).  Define $g_t$ to be the update vector $g$ as described earlier. The perceptron update can be written\n",
    "$$ \\theta_t = \\theta_{t-1} + r g_t $$\n",
    "\n",
    "Thus the averaged perceptron algorithm is, using a new 'weightsums' vector $S$,\n",
    "\n",
    " 1. Initialize $t=1, \\theta_0=\\vec{0}, S_0=\\vec{0}$\n",
    " 2. For each example $i$ (iterating multiples times through dataset),\n",
    "   - Predict $y^* = \\arg\\max_{y'} \\theta^T f(x_i, y')$\n",
    "   - Let $g_t = f(x_i, y_i)-f(x_i, y^*)$\n",
    "   - Update $\\theta_t = \\theta_{t-1} + r g_t$\n",
    "   - Update $S_t = S_{t-1} + (t-1) r g_t$\n",
    "   - $t := t+1$\n",
    "   \n",
    " 3. Calculate $\\bar{\\theta}$ based on $S$\n",
    "\n",
    "\n",
    "In an actual implementation, you don't keep old versions of $S$ or $\\theta$ around ...\n",
    "above we're using the $t$ subscripts above just to make the mathematical analysis clearer.\n",
    "\n",
    "Our proposed algorithm computes $\\bar{\\theta}_t$ as\n",
    "<img src=\"5.png\"> \n",
    "\n",
    "For the following problems, feel free to set $r=1$ just to simplify them.\n",
    "\n",
    "For following questions write only math answers, no code required."
   ]
  },
  {
   "cell_type": "markdown",
   "metadata": {},
   "source": [
    "**Question 3.1** (1 point)\n",
    "\n",
    "What is the computational advantage\n",
    "of computing $\\bar{\\theta}$ using Equation (2)\n",
    "instead of\n",
    "directly implementing\n",
    "Equation (1)?\n",
    "\n",
    "We need not store all the previous θ when using equation(2). $θ_{t-1}$ is needed to calculate when $θ_t$ when using equation(1). \n",
    "Also, if we directly use equation(1) at every 't' we have to constantly sum ALL the previous θ up until that\n",
    "point, greatly increasing the time complexity"
   ]
  },
  {
   "cell_type": "code",
   "execution_count": null,
   "metadata": {
    "collapsed": true
   },
   "outputs": [],
   "source": [
    "\n"
   ]
  },
  {
   "cell_type": "markdown",
   "metadata": {},
   "source": [
    "Now we'll show this works, at least for early iterations.\n",
    "\n",
    "**Question 3.2** (1 point)\n",
    "\n",
    "\n",
    "What are $\\bar{\\theta}_1$, $\\bar{\\theta}_2$, $\\bar{\\theta}_3$, and $\\bar{\\theta}_4$?\n",
    "Please derive them from \n",
    "the Equation (1) definition,\n",
    "and state them in terms of $g_1$, $g_2$, $g_3$, and/or $g_4$.\n",
    "\n",
    "Note that $g_i=f(x_i,yactual_i)-f(x_i,ypred_i)$\n",
    "1. $θ_0=0$\n",
    "2. $θ_1=g_1$\n",
    "3. $θ_2 = θ_1 + g_2$\n",
    "4. $\\bar{\\theta}_2=( θ_1 + θ_2 )/2= ( 2*g_1+g_2)/2$\n",
    "5. $θ_3= θ_2 + g_3$\n",
    "6. $\\bar{\\theta}_3=( θ_1 + θ_2 + θ_3 )/3 = ( 3*g_1+2*g_2+g_3 )/3$\n",
    "7. $θ_4= θ_3+g_4$ \n",
    "8. $\\bar{\\theta}_4=( θ_1 + θ_2 + θ_3 + θ_4 )/4=(4*g_1+3*g_2+2*g_3+g_4)/4$"
   ]
  },
  {
   "cell_type": "code",
   "execution_count": null,
   "metadata": {
    "collapsed": true
   },
   "outputs": [],
   "source": [
    "\n",
    "        "
   ]
  },
  {
   "cell_type": "markdown",
   "metadata": {},
   "source": [
    "**Question 3.3** (1 point)\n",
    "\n",
    "What are $S_1$, $S_2$, $S_3$, and $S_4$?\n",
    "Please state them in terms of $g_1$, $g_2$, $g_3$, and/or $g_4$.\n",
    "\n",
    "1. $S_0=S_1=0$\n",
    "2. $S_2=g_2$\n",
    "3. $S_3=g_2+2*g_3$\n",
    "4. $S_4=g_2+2*g_3+3*g_4$"
   ]
  },
  {
   "cell_type": "code",
   "execution_count": null,
   "metadata": {
    "collapsed": true
   },
   "outputs": [],
   "source": [
    "\n"
   ]
  },
  {
   "cell_type": "markdown",
   "metadata": {},
   "source": [
    "**Question 3.4** (2 points)\n",
    "\n",
    "Show that Equation (2) correctly computes $\\bar{\\theta}_3$ and $\\bar{\\theta}_4$.\n",
    "\n",
    "1. $\\bar{\\theta}_3=θ_3-S_3/3 = (3*g_1+2*g_2+g_3)/3$\n",
    "2. $\\bar{\\theta}_4=θ_4-S_4/4 = (4*g_1+3*g_2+2*g_3+g_4)/4$"
   ]
  },
  {
   "cell_type": "code",
   "execution_count": null,
   "metadata": {
    "collapsed": true
   },
   "outputs": [],
   "source": []
  },
  {
   "cell_type": "markdown",
   "metadata": {},
   "source": [
    "**Question 3.5** (2 Extra Credit points)\n",
    "\n",
    "Use proof by induction\n",
    "to show that this algorithm correctly computes $\\bar{\\theta}_t$ for any $t$.\n",
    "\n",
    "We will use strong form of Mathematical induction\n",
    "\n",
    "1. Initial Step: As shown above, it is true for the initital base cases\n",
    "\n",
    "2. Assume Step: Assume equation 2 is correct for some n=k (>1)\n",
    "\n",
    "3. That is, $\\bar{\\theta}_k=θ_k-S_k/k$\n",
    "4. We will use, $θ_{k+1}=θ_k+g_{k+1}$ and $S_{k+1}=S_k+k*g_{k+1}$ equations in proof (Comes from the definitions itself)\n",
    "5. We know, $\\bar{\\theta}_{k+1}=(\\theta_{k+1}+\\sum{\\theta_i})/(k+1)=(k*\\bar{\\theta}_k+θ_{k+1})/(k+1)$ (definition of average. Mean=Sum of observations/count)\n",
    "6. Implies, $(k+1)*\\bar{\\theta}_{k+1}=θ_{k+1}      +k*θ_k- S_k$\n",
    "7. Implies, $(k+1)*\\bar{\\theta}_{k+1}=(θ_k+g_{k+1})+k*θ_k- (S_{k+1}-k*g_{k+1})$ (Using equations from Line 4)\n",
    "8. Implies, $(k+1)*\\bar{\\theta}_{k+1}=(k+1)θ_k-S_{K+1}+(k+1)g_{k+1}$\n",
    "9. Implies, $(k+1)*\\bar{\\theta}_{k+1}=(k+1)θ_{k+1}-S_{k+1}$\n",
    "10. Hence, $\\bar{\\theta}_{k+1}=θ_{k+1}-S_{k+1}/(k+1)$\n",
    "\n",
    "12. Thus, it is true for n=k+1 also\n",
    "12. By Strong MI, it is true for all natural numbers"
   ]
  },
  {
   "cell_type": "code",
   "execution_count": null,
   "metadata": {
    "collapsed": true
   },
   "outputs": [],
   "source": [
    "#Initial Step: As shown above, it is true for the initital base cases\n",
    "#Assume Step: Assume equation 2 is correct for some n=k (>1)\n",
    "\n",
    "#That is, θ_avg[k]=θ[k]-S[k]/k\n",
    "#We know, θ_avg[k+1]=(k*θ_avg[k]+θ[k+1])/(k+1)\n",
    "#That is, (k+1)*θ_avg[k+1]=θ[k+1]+k*θ[k]-S[k]\n",
    "#That is, (k+1)*θ_avg[k+1]=θ[k]+g[k+1]+k*θ[k]-(S[k+1]-k*g[k+1])\n",
    "#That is, (k+1)*θ_avg[k+1]=(k+1)θ[k]-S[K+1]+(k+1)g[k+1]\n",
    "#That is, (k+1)*θ_avg[k+1]=(k+1)θ[k+1]-S[k+1]\n",
    "#Hence, θ_avg[k+1]=θ[k+1]-S[k+1]/(k+1)\n",
    "#Thus, it is true for n=k+1 also\n",
    "\n",
    "#By Strong MI, it is true for all natural numbers"
   ]
  },
  {
   "cell_type": "markdown",
   "metadata": {},
   "source": [
    "## 4. Classifier Perceptron (20 points)\n",
    "\n"
   ]
  },
  {
   "cell_type": "markdown",
   "metadata": {},
   "source": [
    "Implement the averaged perceptron for document classification, using the same\n",
    "sentiment analysis dataset as you used for HW1.\n",
    "On the first two questions, we're asking you to develop using only a subset of the data,\n",
    "since that makes debugging easier. On the third question, you'll run\n",
    "on the full dataset, and \n",
    "you should be able to achieve a higher accuracy compared to your previous\n",
    "Naive Bayes implementation.\n",
    "Starter code is provided in `classperc.py`.\n"
   ]
  },
  {
   "cell_type": "markdown",
   "metadata": {},
   "source": [
    "**Question 4.1** (8 points) \n",
    "\n",
    "Implement the simple, non-averaged perceptron.  Run your\n",
    "code on **the first 1000 training instances** for 10\n",
    "  passes through the training data. For each pass, report **the\n",
    "  training and test set accuracies**. \n",
    "  \n",
    "#**Report only accuracy values here, no code**\n",
    "\tTraining iteration 0\n",
    "\n",
    "TR RAW EVAL: 1525/2000 = 0.7625 accuracy\n",
    "\n",
    "DEV RAW EVAL: 1389/2000 = 0.6945 accuracy\n",
    "\n",
    "Training iteration 1\n",
    "\n",
    "TR RAW EVAL: 1649/2000 = 0.8245 accuracy\n",
    "\n",
    "DEV RAW EVAL: 1446/2000 = 0.7230 accuracy\n",
    "\n",
    "Training iteration 2\n",
    "\n",
    "TR RAW EVAL: 1769/2000 = 0.8845 accuracy\n",
    "\n",
    "DEV RAW EVAL: 1504/2000 = 0.7520 accuracy\n",
    "\n",
    "Training iteration 3\n",
    "\n",
    "TR RAW EVAL: 1348/2000 = 0.6740 accuracy\n",
    "\n",
    "DEV RAW EVAL: 1222/2000 = 0.6110 accuracy\n",
    "\n",
    "Training iteration 4\n",
    "\n",
    "TR RAW EVAL: 1879/2000 = 0.9395 accuracy\n",
    "\n",
    "DEV RAW EVAL: 1563/2000 = 0.7815 accuracy\n",
    "\n",
    "Training iteration 5\n",
    "\n",
    "TR RAW EVAL: 1849/2000 = 0.9245 accuracy\n",
    "\n",
    "DEV RAW EVAL: 1522/2000 = 0.7610 accuracy\n",
    "\n",
    "Training iteration 6\n",
    "\n",
    "TR RAW EVAL: 1937/2000 = 0.9685 accuracy\n",
    "\n",
    "DEV RAW EVAL: 1567/2000 = 0.7835 accuracy\n",
    "\n",
    "Training iteration 7\n",
    "\n",
    "TR RAW EVAL: 1951/2000 = 0.9755 accuracy\n",
    "\n",
    "DEV RAW EVAL: 1590/2000 = 0.7950 accuracy\n",
    "\n",
    "Training iteration 8\n",
    "\n",
    "TR RAW EVAL: 1920/2000 = 0.9600 accuracy\n",
    "\n",
    "DEV RAW EVAL: 1503/2000 = 0.7515 accuracy\n",
    "\n",
    "Training iteration 9\n",
    "\n",
    "TR RAW EVAL: 1989/2000 = 0.9945 accuracy\n",
    "\n",
    "DEV RAW EVAL: 1610/2000 = 0.8050 accuracy\n",
    "\n",
    "[learned weights for 77526 features from 2000 examples.]"
   ]
  },
  {
   "cell_type": "code",
   "execution_count": null,
   "metadata": {
    "collapsed": true
   },
   "outputs": [],
   "source": []
  },
  {
   "cell_type": "markdown",
   "metadata": {},
   "source": [
    "**Question 4.2** (8 points)\n",
    "\n",
    "Implement the averaged perceptron. Run your code on\n",
    "**the first 1000 training instances** for 10 passes\n",
    "  through the training data. For each pass, compute the\n",
    "$\\bar{\\theta}$ so far, and report its **test set accuracy**.\n",
    "\n",
    "[training...]\n",
    "\n",
    "Training iteration 0\n",
    "\n",
    "TR RAW EVAL: 1447/2000 = 0.7235 accuracy\n",
    "\n",
    "DEV RAW EVAL: 1378/2000 = 0.6890 accuracy\n",
    "\n",
    "DEV AVG EVAL: 1493/2000 = 0.7465 accuracy\n",
    "\n",
    "Training iteration 1\n",
    "\n",
    "TR RAW EVAL: 1772/2000 = 0.8860 accuracy\n",
    "\n",
    "DEV RAW EVAL: 1550/2000 = 0.7750 accuracy\n",
    "\n",
    "DEV AVG EVAL: 1537/2000 = 0.7685 accuracy\n",
    "\n",
    "Training iteration 2\n",
    "\n",
    "TR RAW EVAL: 1380/2000 = 0.6900 accuracy\n",
    "\n",
    "DEV RAW EVAL: 1249/2000 = 0.6245 accuracy\n",
    "\n",
    "DEV AVG EVAL: 1561/2000 = 0.7805 accuracy\n",
    "\n",
    "Training iteration 3\n",
    "\n",
    "TR RAW EVAL: 1744/2000 = 0.8720 accuracy\n",
    "\n",
    "DEV RAW EVAL: 1466/2000 = 0.7330 accuracy\n",
    "\n",
    "DEV AVG EVAL: 1589/2000 = 0.7945 accuracy\n",
    "\n",
    "Training iteration 4\n",
    "\n",
    "TR RAW EVAL: 1916/2000 = 0.9580 accuracy\n",
    "\n",
    "DEV RAW EVAL: 1573/2000 = 0.7865 accuracy\n",
    "\n",
    "DEV AVG EVAL: 1609/2000 = 0.8045 accuracy\n",
    "\n",
    "Training iteration 5\n",
    "\n",
    "TR RAW EVAL: 1900/2000 = 0.9500 accuracy\n",
    "\n",
    "DEV RAW EVAL: 1538/2000 = 0.7690 accuracy\n",
    "\n",
    "DEV AVG EVAL: 1612/2000 = 0.8060 accuracy\n",
    "\n",
    "Training iteration 6\n",
    "\n",
    "TR RAW EVAL: 1909/2000 = 0.9545 accuracy\n",
    "\n",
    "DEV RAW EVAL: 1537/2000 = 0.7685 accuracy\n",
    "\n",
    "DEV AVG EVAL: 1617/2000 = 0.8085 accuracy\n",
    "\n",
    "Training iteration 7\n",
    "\n",
    "TR RAW EVAL: 1968/2000 = 0.9840 accuracy\n",
    "\n",
    "DEV RAW EVAL: 1589/2000 = 0.7945 accuracy\n",
    "\n",
    "DEV AVG EVAL: 1625/2000 = 0.8125 accuracy\n",
    "\n",
    "Training iteration 8\n",
    "\n",
    "TR RAW EVAL: 1948/2000 = 0.9740 accuracy\n",
    "\n",
    "DEV RAW EVAL: 1542/2000 = 0.7710 accuracy\n",
    "\n",
    "DEV AVG EVAL: 1624/2000 = 0.8120 accuracy\n",
    "\n",
    "Training iteration 9\n",
    "\n",
    "TR RAW EVAL: 1989/2000 = 0.9945 accuracy\n",
    "\n",
    "DEV RAW EVAL: 1587/2000 = 0.7935 accuracy\n",
    "\n",
    "DEV AVG EVAL: 1622/2000 = 0.8110 accuracy\n",
    "\n",
    "[learned weights for 77758 features from 2000 examples.]"
   ]
  },
  {
   "cell_type": "code",
   "execution_count": null,
   "metadata": {
    "collapsed": true
   },
   "outputs": [],
   "source": [
    "\n"
   ]
  },
  {
   "cell_type": "markdown",
   "metadata": {},
   "source": [
    "**Question 4.3** (4 points)\n",
    "\n",
    "Graph four curves on the same plot, using the **full dataset**:\n",
    "- accuracy of the vanilla perceptron on the training set\n",
    "- accuracy of the vanilla perceptron on the test set\n",
    "- accuracy of the averaged perceptron on the test set\n",
    "- accuracy of your Naive Bayes classifier from HW1 (you don't need to re-run it; just take the best accuracy from your previous results).\n",
    "\n",
    "The x-axis of the plot should show the number of iterations through the\n",
    "training set and the y-axis should show the accuracy of the\n",
    "classifier. For this part of the HW run your code on **the\n",
    "  entire dataset** (all instances). Since Naive Bayes doesn't require\n",
    "multiple passes through the data just produce a single horizontal line\n",
    "showing its overall accuracy. Make sure your plot has a title, a\n",
    "label on the x-axis, a label on the y-axis and a legend showing which\n",
    "line is which. Explain verbally what's happening in this plot.\n",
    "\n",
    "<img src=\"accuracy.png\"> \n",
    "\n",
    "\n",
    "As expected, Average perceptron is much stable as compared to vanilla perceptron. Vanilla perceptron changes the weights every iteration almost independently, but average takes an aggregate. And aggregates tend to be much stable. Average perceptron seems to converge to a value much faster than vanilla one.\n",
    "\n",
    "Also, note that training accuracy is increasing as iterations increase. It just shows how overfitting might affect a model. The final training accuracy is around 94% but on dev set it is giving around 87%.\n",
    "\n",
    "Even when traning and vanilla accuracy decrease in mid iterations, average perceptron is still performing similarly\n"
   ]
  },
  {
   "cell_type": "code",
   "execution_count": 15,
   "metadata": {},
   "outputs": [
    {
     "data": {
      "image/png": "[encoded data removed]",
      "text/plain": [
       "<IPython.core.display.Image object>"
      ]
     },
     "execution_count": 15,
     "metadata": {},
     "output_type": "execute_result"
    }
   ],
   "source": [
    "#**Show the graph with proper labelling, no code**\n",
    "from IPython.display import Image\n",
    "Image(filename='accuracy.png') \n"
   ]
  },
  {
   "cell_type": "markdown",
   "metadata": {},
   "source": [
    "## 5. Structured Perceptron with Viterbi (40 points) "
   ]
  },
  {
   "cell_type": "markdown",
   "metadata": {},
   "source": [
    "In this problem, you will implement a part-of-speech tagger for Twitter,\n",
    "using the structured perceptron algorithm.\n",
    "Your system will be not too far off from state of the art performance,\n",
    "coding it all up yourself from scratch!\n",
    "\n",
    "The dataset comes from http://www.ark.cs.cmu.edu/TweetNLP/\n",
    "and is described in the papers listed there (Gimpel et al.~2011 and Owoputi et al.~2013).\n",
    "The Gimpel article describes the tagset; the annotation guidelines on that webpage describe it futher.\n",
    "\n",
    "Your structured perceptron will use your Viterbi implementation from 2.2 as a subroutine.\n",
    "If that's buggy, this will cause many problems here---your perceptron will have really weird behavior.\n",
    "(This happened to us when designing your assignment!)\n",
    "If you have problems, try using the greedy decoding algorithm, which we provide in the starter code.\n",
    "Make sure to note which decoding algorithm you're using in your writeup.\n",
    "\n",
    "The starter code is `structperc.py` and it assumes the two data files `oct27.train`\n",
    "and `oct27.dev` are in the same directory. (For simplicity we're just going to use this `dev` set as our test set.)\n"
   ]
  },
  {
   "cell_type": "markdown",
   "metadata": {},
   "source": [
    "**Question 5.1** (2 points)\n",
    "\n",
    "First let's do a little data analysis to establish the **most common tag** baseline accuracy.\n",
    "Using a small script, load up the dev dataset (oct27.dev) using the function `structperc.read_tagging_file` (from `import structperc`). Calculate the following: What is the most common tag, and what would your accuracy be if you predicted it for all tags?\n",
    "\n",
    "\n"
   ]
  },
  {
   "cell_type": "code",
   "execution_count": 3,
   "metadata": {},
   "outputs": [
    {
     "name": "stdout",
     "output_type": "stream",
     "text": [
      "['V', 751]\n",
      "Base accuracy: 0.155712212316\n"
     ]
    }
   ],
   "source": [
    "##Write your code here and show the output\n",
    "# You may implement your code here\n",
    "from structperc import *\n",
    "ret=read_tagging_file(\"oct27.dev\")\n",
    "tags_count={}\n",
    "max_count=['@',0]\n",
    "total_count=0.0\n",
    "for i in ret:\n",
    "    for j in i[1]:\n",
    "        if j in tags_count.keys():\n",
    "            tags_count[j]+=1\n",
    "            if tags_count[j]>max_count[1]:\n",
    "                max_count[0]=j\n",
    "                max_count[1]=tags_count[j]\n",
    "        else:\n",
    "            tags_count[j]=1\n",
    "        total_count+=1\n",
    "print max_count\n",
    "#print tags_count\n",
    "print \"Base accuracy: \"+str(max_count[1]/total_count)\n",
    "\n",
    "#Most common tag 'V' with a count of 751. If all words in dev set were given 'V' tag, then accuracy: 15.57%\n"
   ]
  },
  {
   "cell_type": "markdown",
   "metadata": {},
   "source": [
    "The structured perceptron algorithm works very similarly as the classification version you did in the previous question, except the prediction function uses Viterbi as a subroutine, which has to call feature extraction functions for local emissions and transition factors. There also has to be a large overall feature extraction function for an entire structure at once. The following parts will build up these pieces. First, we will focus on inference, not learning.\n",
    "\n",
    "**Question 5.2** (2 points)\n",
    "\n",
    "We provide a barebones version of `local_emission_features`, which calculates the local features for a particular tag at a token position. You can run this function all by itself. Make up an example sentence, and call this function with it, giving it a particular index and candidate tag. Show the code for the function call you made and the function's return value, and explain what the features mean (just a sentence or two).\n",
    "\n",
    "#{'tag=V_curword=running': 1, 'tag=V_biasterm': 1}\n",
    "\n",
    "When the current_word is 'running' (observed) the tag is a verb (hidden state). This count is currently 1. \n",
    "A biasterm is similar to the intercept in the logistic regression.\n",
    "\n",
    "This can be thought of capture the intuition that \"Verb\" is more common than \"adverbs\"\n",
    "It can also be used for assigning default tags. If the word is never seen before and NO other info is available, bias can tell what tag is most common & assign it to the unseen word"
   ]
  },
  {
   "cell_type": "code",
   "execution_count": 4,
   "metadata": {},
   "outputs": [
    {
     "name": "stdout",
     "output_type": "stream",
     "text": [
      "{'tag=V_curword=running': 1, 'tag=V_biasterm': 1}\n"
     ]
    }
   ],
   "source": [
    "##Show the code for function call with output\n",
    "print (local_emission_features(2, 'V', \"I went running\".split()))\n"
   ]
  },
  {
   "cell_type": "markdown",
   "metadata": {},
   "source": [
    "**Question 5.3** (2 points)\n",
    "\n",
    "Implement `features_for_seq()`, which extracts the full feature vector $f(x,y)$, where $x$is a sentence and $y$ is an entire tagging sequence for that sentence. This will add up the feature vectors from each local emissions features for every position, as well as transition features for every position (there are $N-1$ of them, of course).\n",
    "Show the output on a very short example sentence and example proposed tagging, that's only 2 or 3 words long.\n",
    "\n",
    "To define $f(x,y)$ a little more precisely: If $f^{(B)}(t,x,y)$ means the local emissions feature vector at position $t$ (i.e. the `local_emission_features` function), and $f^{(A)}(y_{t-1},y_{t}, y)$ is the transition feature function for positions $(t-1,t)$ (which just returns a feature vector where everything is zero, except a single element is 1), then the full sequence feature vector will be the vector-sum of all those feature vectors:\n",
    "$$ f(x,y) = \\sum_t^T f^{(B)}(t,x,y) + \\sum_{t=2}^T f^{(A)}(y_{t-1},y_t) $$\n",
    "You implemented $f^{(B)}$ above.  You probably don't need to bother implementing $f^{(A)}$ as a standalone function.  You will have to decide on a particular convention to encode the name of a transition feature.  For example, one way to do it is with string concatenation like this, `\"trans_%s_%s\" % (prevtag, curtag)`, where prevtag and curtag are strings.  Or you could use a python tuple of strings, which works since\n",
    "tuples have the ability to be keys in a python dictionary.\n",
    "\n",
    "In other words: the emissions and transition features will all be in the same vector, just as keys in the dictionary that represents the feature vector.  The transition features are going to be the count of how many times a particular transition (tag bigram) happened.  The emissions features are going to be the vector-sum of all the local emission features, as calculated from `local_emission_features`.\n",
    "\n",
    "#defaultdict(<type 'float'>, {'trans_V_V': 1, 'tag=P_biasterm': 1, 'trans_P_V': 1, 'tag=V_curword=running': 1, #'tag=V_curword=went': 1, 'tag=P_curword=I': 1, 'tag=V_biasterm': 2})"
   ]
  },
  {
   "cell_type": "code",
   "execution_count": 5,
   "metadata": {},
   "outputs": [
    {
     "name": "stdout",
     "output_type": "stream",
     "text": [
      "defaultdict(<type 'float'>, {'trans_V_V': 1.0, 'tag=P_biasterm': 1.0, 'trans_P_V': 1.0, 'tag=V_curword=running': 1.0, 'tag=V_curword=went': 1.0, 'tag=P_curword=I': 1.0, 'tag=V_biasterm': 2.0})\n"
     ]
    }
   ],
   "source": [
    "##Show the call to your function and output\n",
    "print features_for_seq(\"I went running\".split(), ['P','V','V'])\n"
   ]
  },
  {
   "cell_type": "markdown",
   "metadata": {},
   "source": [
    "**Question 5.4** (4 points)\n",
    "\n",
    "Look at the starter code for `calc_factor_scores`, which calculates the A and B score functions that are going to be passed in to your Viterbi implementation from problem 2, in order to do a prediction. The only function it will need to call is `local_emission_features`. It should NOT call `features_for_seq`.  Why not?\n",
    "\n",
    "Features_for_seq adds up all the feature values, but for the probability tables we need individual values.\n",
    "\n",
    "Viterbi uses the individual emission and transition probabilties while Perceptron uses the overall feature extraction.\n",
    "\n",
    "Viterbi needs partial sums not the aggregate. It needs to distribute these partial sums amongst the nodes."
   ]
  },
  {
   "cell_type": "code",
   "execution_count": null,
   "metadata": {
    "collapsed": true
   },
   "outputs": [],
   "source": []
  },
  {
   "cell_type": "markdown",
   "metadata": {},
   "source": [
    "**Question 5.5** (6 points)\n",
    "\n",
    "Implement `calc_factor_scores`. Make up a simple example (2 or 3 words long), with a simple model with at least some \n",
    "nonzero features (you might want to use a `defaultdict(float)`, so you don't have to fill up a dict with dummy values \n",
    "for all possible transitions), and show your call to this function and the output."
   ]
  },
  {
   "cell_type": "code",
   "execution_count": 8,
   "metadata": {},
   "outputs": [
    {
     "name": "stdout",
     "output_type": "stream",
     "text": [
      "({('D', '^'): 0.0, ('M', '@'): 0.0, ('^', '&'): 0.0, ('N', '#'): 0.0, ('G', 'G'): 0.0, ('X', 'D'): 0.0, ('#', 'U'): 0.0, ('E', 'M'): 0.0, (',', 'U'): 0.0, ('S', '!'): 0.0, ('@', 'X'): 0.0, ('A', 'N'): 0.0, ('T', '@'): 0.0, ('M', '&'): 0.0, ('A', 'Y'): 0.0, ('R', '#'): 0.0, ('O', '!'): 0.0, ('Y', 'V'): 0.0, ('O', 'O'): 0.0, ('V', 'X'): 0.0, ('G', 'E'): 0.0, ('E', 'D'): 0.0, ('&', '&'): 0.0, ('!', '&'): 0.0, ('R', '$'): 0.0, ('O', 'N'): 0.0, ('X', 'M'): 0.0, ('Z', '$'): 0.0, ('Z', '^'): 0.0, ('Y', 'E'): 0.0, ('G', 'D'): 0.0, ('R', '^'): 0.0, ('T', 'N'): 0.0, ('#', '@'): 0.0, ('Y', 'X'): 0.0, ('O', 'M'): 0.0, ('V', ','): 0.0, ('S', 'S'): 0.0, ('N', 'T'): 0.0, ('X', '^'): 0.0, ('R', '&'): 0.0, ('$', 'S'): 0.0, ('N', '^'): 0.0, ('O', 'L'): 0.0, ('Z', 'P'): 0.0, ('@', 'U'): 0.0, ('L', '#'): 0.0, ('#', '^'): 0.0, ('$', '&'): 0.0, ('D', 'S'): 0.0, ('D', 'X'): 0.0, ('V', 'T'): 0.0, ('P', 'V'): 0.0, ('P', 'O'): 0.0, ('E', '!'): 0.0, ('P', 'D'): 0.0, ('D', '$'): 0.0, ('S', '$'): 0.0, ('N', 'O'): 0.0, ('A', 'M'): 0.0, ('L', '!'): 0.0, ('U', 'V'): 0.0, (',', 'L'): 0.0, ('Z', 'S'): 0.0, ('S', 'O'): 0.0, ('X', 'G'): 0.0, ('&', 'X'): 0.0, ('X', 'L'): 0.0, ('G', 'Z'): 0.0, ('E', '#'): 0.0, (',', 'M'): 0.0, ('A', 'O'): 0.0, ('@', 'P'): 0.0, ('U', 'D'): 0.0, ('M', '^'): 0.0, ('^', 'V'): 0.0, ('@', '&'): 0.0, ('#', 'Z'): 0.0, ('Y', '^'): 0.0, ('^', '@'): 0.0, ('V', 'P'): 0.0, ('!', ','): 0.0, ('!', 'S'): 0.0, ('E', 'L'): 0.0, ('R', ','): 0.0, ('O', 'V'): 0.0, ('V', 'N'): 0.0, ('Z', 'V'): 0.0, ('G', '&'): 0.0, ('T', 'A'): 0.0, ('T', 'V'): 0.0, (',', 'Z'): 0.0, ('#', 'X'): 0.0, ('O', 'U'): 0.0, ('&', 'T'): 0.0, ('X', 'P'): 0.0, ('E', 'N'): 0.0, ('M', 'A'): 0.0, ('G', '^'): 0.0, ('N', '&'): 0.0, ('O', 'T'): 0.0, ('#', '#'): 0.0, ('L', '^'): 0.0, ('V', 'S'): 0.0, ('A', 'Z'): 0.0, ('!', '!'): 0.0, ('M', 'Z'): 0.0, ('A', 'U'): 0.0, ('#', 'V'): 0.0, ('P', 'X'): 0.0, ('D', '@'): 0.0, ('P', 'N'): 0.0, ('P', 'G'): 0.0, ('Y', 'S'): 0.0, ('D', ','): 0.0, ('#', '!'): 0.0, ('V', '$'): 0.0, ('S', 'Y'): 0.0, ('#', 'T'): 0.0, ('^', '$'): 0.0, (',', 'D'): 0.0, ('D', 'Y'): 0.0, ('E', 'O'): 0.0, ('D', 'N'): 0.0, ('X', 'O'): 0.0, ('Y', 'U'): 0.0, ('&', 'P'): 0.0, ('X', 'T'): 0.0, ('&', '#'): 0.0, ('G', 'R'): 0.0, ('$', 'G'): 0.0, (',', 'E'): 0.0, ('@', 'Z'): 0.0, ('A', 'L'): 0.0, ('L', 'Z'): 0.0, ('@', 'S'): 0.0, ('A', 'G'): 0.0, ('Y', 'P'): 0.0, ('A', '^'): 0.0, ('T', 'P'): 0.0, ('M', 'V'): 0.0, ('^', '^'): 0.0, ('#', 'R'): 0.0, ('V', '^'): 0.0, ('Y', '&'): 0.0, ('E', 'S'): 0.0, ('&', 'Y'): 0.0, ('P', 'U'): 0.0, ('!', '$'): 0.0, ('O', '^'): 0.0, ('L', 'X'): 0.0, ('N', 'A'): 0.0, ('U', 'A'): 0.0, ('T', '^'): 0.0, ('$', 'T'): 0.0, (',', 'R'): 0.0, ('S', 'U'): 0.0, ('#', 'P'): 0.0, ('X', 'S'): 0.0, ('&', 'L'): 0.0, ('X', 'X'): 0.0, ('Z', 'L'): 0.0, ('P', '#'): 0.0, ('Y', '@'): 0.0, ('$', 'U'): 0.0, ('Y', 'Y'): 0.0, (',', 'S'): 0.0, ('@', 'A'): 0.0, ('T', '&'): 0.0, ('A', '@'): 0.0, ('L', 'V'): 0.0, ('U', ','): 0.0, ('A', 'R'): 0.0, ('Z', 'M'): 0.0, ('M', 'R'): 0.0, ('V', 'Z'): 0.0, ('P', 'P'): 0.0, ('&', 'U'): 0.0, ('V', '#'): 0.0, ('S', '&'): 0.0, (',', 'V'): 0.0, ('L', 'T'): 0.0, ('Z', 'O'): 0.0, ('$', 'P'): 0.0, ('X', 'A'): 0.0, ('^', ','): 0.0, ('&', '^'): 0.0, ('D', 'A'): 0.0, ('E', 'Y'): 0.0, ('^', 'X'): 0.0, ('U', '^'): 0.0, ('^', 'E'): 0.0, ('@', 'L'): 0.0, ('$', 'O'): 0.0, ('@', 'R'): 0.0, ('A', 'D'): 0.0, ('L', 'R'): 0.0, ('^', 'T'): 0.0, ('T', 'S'): 0.0, ('A', 'V'): 0.0, ('T', 'X'): 0.0, ('M', 'N'): 0.0, ('X', 'E'): 0.0, ('S', 'X'): 0.0, ('E', 'P'): 0.0, ('V', 'V'): 0.7, ('X', '&'): 0.0, ('S', 'G'): 0.0, ('P', 'M'): 0.0, ('X', 'R'): 0.0, ('!', 'N'): 0.0, ('M', ','): 0.0, ('L', 'P'): 0.0, ('N', 'L'): 0.0, ('Y', 'L'): 0.0, ('O', 'A'): 0.0, ('S', 'M'): 0.0, ('E', 'R'): 0.0, ('&', 'Z'): 0.0, ('O', '@'): 0.0, ('&', 'D'): 0.0, ('Z', 'D'): 0.0, ('U', '$'): 0.0, ('N', '$'): 0.0, ('G', 'N'): 0.0, ('@', 'Y'): 0.0, ('L', 'Y'): 0.0, ('M', '!'): 0.0, ('A', 'X'): 0.0, ('L', 'N'): 0.0, ('U', '@'): 0.0, ('A', 'S'): 0.0, ('Z', 'E'): 0.0, ('D', 'T'): 0.0, ('S', 'T'): 0.0, ('P', 'Z'): 0.0, ('P', 'S'): 0.0, ('V', 'R'): 0.0, ('Y', '!'): 0.0, ('&', 'M'): 0.0, ('#', ','): 0.0, ('Y', '#'): 0.0, ('^', 'O'): 0.0, (',', '!'): 0.0, ('M', '#'): 0.0, ('G', ','): 0.0, (',', 'X'): 0.0, ('Z', 'G'): 0.0, ('D', 'R'): 0.0, ('$', 'X'): 0.0, ('&', 'V'): 0.0, ('E', 'A'): 0.0, (',', 'Y'): 0.0, ('&', '@'): 0.0, ('@', 'O'): 0.0, ('$', 'Y'): 0.0, ('^', 'M'): 0.0, ('@', 'D'): 0.0, ('T', 'D'): 0.0, ('L', 'U'): 0.0, ('#', 'O'): 0.0, ('!', '#'): 0.0, ('@', '#'): 0.0, ('Y', 'R'): 0.0, ('^', 'N'): 0.0, ('S', 'P'): 0.0, ('#', 'G'): 0.0, ('E', 'X'): 0.0, ('^', 'P'): 0.0, ('P', 'E'): 0.0, ('Z', 'Z'): 0.0, ('T', '#'): 0.0, ('M', '$'): 0.0, ('U', 'T'): 0.0, ('L', 'S'): 0.0, ('#', 'M'): 0.0, ('$', 'V'): 0.0, ('Y', 'T'): 0.0, ('V', '&'): 0.0, ('T', 'Y'): 0.0, ('Z', '!'): 0.0, ('^', 'D'): 0.0, ('$', 'D'): 0.0, ('S', 'E'): 0.0, ('E', 'Z'): 0.0, ('N', '@'): 0.0, ('&', 'R'): 0.0, ('V', 'M'): 0.0, ('N', 'R'): 0.0, ('#', '&'): 0.0, ('$', 'E'): 0.0, ('N', ','): 0.0, ('T', '!'): 0.0, ('M', 'Y'): 0.0, ('A', 'P'): 0.0, ('S', 'N'): 0.0, ('G', '#'): 0.0, ('S', '^'): 0.0, ('U', 'S'): 0.0, ('Z', '#'): 0.0, ('S', 'L'): 0.0, ('P', 'R'): 0.0, ('Y', 'G'): 0.0, ('P', '@'): 0.0, ('&', 'E'): 0.0, ('#', '$'): 0.0, ('^', '!'): 0.0, ('!', 'Z'): 0.0, ('A', '!'): 0.0, ('L', 'O'): 0.0, ('L', 'D'): 0.0, ('$', 'R'): 0.0, (',', 'P'): 0.0, ('D', 'U'): 0.0, ('D', 'Z'): 0.0, ('$', '@'): 0.0, ('S', 'A'): 0.0, ('&', 'N'): 0.0, ('P', '!'): 0.0, ('D', '&'): 0.0, ('O', '&'): 0.0, ('@', 'N'): 0.0, ('Z', '&'): 0.0, ('@', 'G'): 0.0, ('$', 'A'): 0.0, ('T', 'G'): 0.0, ('T', 'L'): 0.0, ('L', 'M'): 0.0, ('M', 'U'): 0.0, ('A', 'T'): 0.0, ('Y', 'Z'): 0.0, ('O', 'S'): 0.0, ('S', 'Z'): 0.0, ('U', '&'): 0.0, ('!', 'M'): 0.0, ('P', 'Y'): 0.0, (',', '&'): 0.0, ('^', 'Z'): 0.0, ('E', '@'): 0.0, ('&', 'A'): 0.0, ('G', 'L'): 0.0, ('O', '$'): 0.0, ('O', 'R'): 0.0, ('!', 'L'): 0.0, ('Z', 'R'): 0.0, ('T', 'E'): 0.0, ('!', '^'): 0.0, (',', '^'): 0.0, ('#', 'E'): 0.0, ('L', '@'): 0.0, ('$', '^'): 0.0, ('N', 'Y'): 0.0, ('U', 'Y'): 0.0, ('$', 'L'): 0.0, ('X', 'U'): 0.0, ('Y', 'M'): 0.0, ('P', ','): 0.0, ('R', '@'): 0.0, ('V', 'E'): 0.0, ('N', 'Z'): 0.0, ('O', 'P'): 0.0, ('Z', 'T'): 0.0, ('Y', 'D'): 0.0, ('$', 'M'): 0.0, ('G', 'Y'): 0.0, ('R', 'A'): 0.0, ('U', 'P'): 0.0, ('L', 'L'): 0.0, ('S', 'V'): 0.0, ('!', 'A'): 0.0, ('Z', 'U'): 0.0, ('D', 'D'): 0.0, ('X', '$'): 0.0, ('S', 'D'): 0.0, ('&', ','): 0.0, ('&', 'S'): 0.0, ('Y', 'O'): 0.0, ('G', 'X'): 0.0, ('$', '#'): 0.0, ('!', '@'): 0.0, ('!', 'R'): 0.0, ('M', 'X'): 0.0, ('L', 'G'): 0.0, ('M', 'S'): 0.0, ('U', 'R'): 0.0, ('$', 'Z'): 0.0, ('E', 'U'): 0.0, ('Y', '$'): 0.0, ('E', '$'): 0.0, ('X', 'Y'): 0.0, ('R', 'D'): 0.0, ('V', 'A'): 0.0, ('G', '$'): 0.0, ('T', 'O'): 0.0, ('@', 'T'): 0.0, ('T', 'T'): 0.0, ('^', 'R'): 0.0, ('L', 'E'): 0.0, ('M', 'M'): 0.0, ('R', 'E'): 0.0, ('G', '!'): 0.0, ('^', 'L'): 0.0, ('S', 'R'): 0.0, ('!', 'E'): 0.0, ('X', '#'): 0.0, ('S', '@'): 0.0, ('E', '&'): 0.0, ('Y', 'A'): 0.0, ('O', ','): 0.0, ('O', 'Z'): 0.0, ('!', 'D'): 0.0, ('N', 'E'): 0.0, ('T', 'M'): 0.0, ('U', 'E'): 0.0, ('!', 'V'): 0.0, ('T', 'R'): 0.0, ('M', 'T'): 0.0, ('G', 'S'): 0.0, ('M', 'O'): 0.0, ('R', 'G'): 0.0, ('N', '!'): 0.0, ('O', 'Y'): 0.0, ('^', 'U'): 0.0, ('N', 'P'): 0.0, ('P', '$'): 0.0, ('^', 'S'): 0.0, ('@', 'M'): 0.0, ('S', '#'): 0.0, ('O', 'X'): 0.0, ('U', 'G'): 0.0, ('G', 'V'): 0.0, ('@', '!'): 0.0, ('V', 'L'): 0.0, ('L', 'A'): 0.0, ('U', 'X'): 0.0, (',', ','): 0.0, ('D', 'G'): 0.0, ('!', 'Y'): 0.0, ('D', 'L'): 0.0, ('X', ','): 0.0, ('&', '$'): 0.0, ('G', 'P'): 0.0, ('D', '#'): 0.0, ('V', '!'): 0.0, ('!', 'X'): 0.0, ('A', '&'): 0.0, ('M', 'P'): 0.0, ('N', 'S'): 0.0, ('#', 'Y'): 0.0, ('U', 'Z'): 0.0, ('X', 'Z'): 0.0, (',', '@'): 0.0, ('D', 'E'): 0.0, ('E', ','): 0.0, ('V', 'O'): 0.0, ('^', 'Y'): 0.0, ('D', '!'): 0.0, ('R', 'L'): 0.0, ('V', 'Y'): 0.0, (',', 'A'): 0.0, ('@', '^'): 0.0, ('L', ','): 0.0, ('@', ','): 0.0, ('G', 'U'): 0.0, ('M', 'E'): 0.0, ('R', 'M'): 0.0, ('E', 'T'): 0.0, ('Z', 'N'): 0.0, ('&', 'G'): 0.0, ('G', 'T'): 0.0, ('U', '!'): 0.0, ('R', 'N'): 0.0, ('T', '$'): 0.0, ('^', '#'): 0.0, ('A', '#'): 0.0, ('N', 'M'): 0.0, ('T', 'U'): 0.0, ('U', 'M'): 0.0, ('T', 'Z'): 0.0, ('M', 'L'): 0.0, (',', 'N'): 0.0, ('M', 'G'): 0.0, ('R', 'O'): 0.0, ('E', 'V'): 0.0, ('$', 'N'): 0.0, ('Y', ','): 0.0, ('X', 'N'): 0.0, ('N', 'N'): 0.0, ('Z', '@'): 0.0, ('N', 'X'): 0.0, (',', 'O'): 0.0, ('U', '#'): 0.0, ('R', 'P'): 0.0, ('@', 'E'): 0.0, ('$', ','): 0.0, ('V', 'U'): 0.0, ('#', 'N'): 0.0, ('U', 'O'): 0.0, ('Z', 'A'): 0.0, ('V', 'D'): 0.0, ('$', '$'): 0.0, ('#', 'S'): 0.0, ('!', 'O'): 0.0, ('^', 'G'): 0.0, (',', '$'): 0.0, ('D', 'O'): 0.0, ('P', 'T'): 0.0, ('R', 'R'): 0.0, ('A', ','): 0.0, ('!', 'P'): 0.0, ('#', 'L'): 0.0, ('L', '&'): 0.0, ('D', 'V'): 0.0, ('G', 'O'): 0.0, ('R', 'S'): 0.0, ('D', 'M'): 0.0, ('E', 'E'): 0.0, ('V', 'G'): 0.0, ('^', 'A'): 0.0, ('@', '@'): 0.0, ('R', 'T'): 0.0, ('A', 'A'): 0.0, ('@', 'V'): 0.0, ('L', '$'): 0.0, ('Y', 'N'): 0.0, ('O', 'G'): 0.0, ('@', '$'): 0.0, ('V', '@'): 0.0, ('G', 'M'): 0.0, ('R', 'U'): 0.0, ('E', 'G'): 0.0, ('!', 'U'): 0.0, ('P', 'A'): 0.0, ('Z', ','): 0.0, ('$', '!'): 0.0, ('R', 'V'): 0.0, ('T', ','): 0.0, ('!', 'T'): 0.0, ('N', 'U'): 0.0, ('O', 'E'): 0.0, ('U', 'U'): 0.0, ('M', 'D'): 0.0, ('X', '@'): 0.0, (',', '#'): 0.0, ('E', '^'): 0.0, ('N', 'D'): 0.0, ('X', 'V'): 0.0, ('&', '!'): 0.0, ('N', 'V'): 0.7, ('O', 'D'): 0.0, ('P', '&'): 0.0, ('Z', 'X'): 0.0, ('&', 'O'): 0.0, (',', 'G'): 0.0, ('R', 'X'): 0.0, ('A', 'E'): 0.0, ('U', 'L'): 0.0, ('Z', 'Y'): 0.0, ('D', 'P'): 0.0, ('G', 'A'): 0.0, ('P', '^'): 0.0, ('R', 'Y'): 0.0, ('!', 'G'): 0.0, ('X', '!'): 0.0, ('P', 'L'): 0.0, ('U', 'N'): 0.0, ('S', ','): 0.0, ('#', 'A'): 0.0, ('G', '@'): 0.0, ('R', 'Z'): 0.0, ('N', 'G'): 0.0, ('A', '$'): 0.0, ('R', '!'): 0.0, ('#', 'D'): 0.0, ('O', '#'): 0.0, (',', 'T'): 0.0}, [defaultdict(<type 'float'>, {'!': 0.0, '#': 0.0, '$': 0.0, '&': 0.0, ',': 0.0, 'A': 0.0, '@': 0.0, 'E': 0.0, 'D': 0.0, 'G': 0.0, 'M': 0.0, 'L': 0.0, 'O': 0.0, 'N': 2.0, 'P': 0.0, 'S': 0.0, 'R': 0.0, 'U': 0.0, 'T': 0.0, 'V': 0.0, 'Y': 0.0, 'X': 0.0, 'Z': 0.0, '^': 0.0}), defaultdict(<type 'float'>, {'!': 0.0, '#': 0.0, '$': 0.0, '&': 0.0, ',': 0.0, 'A': 0.0, '@': 0.0, 'E': 0.0, 'D': 0.0, 'G': 0.0, 'M': 0.0, 'L': 0.0, 'O': 0.0, 'N': 1.0, 'P': 0.0, 'S': 0.0, 'R': 0.0, 'U': 0.0, 'T': 0.0, 'V': 0.0, 'Y': 0.0, 'X': 0.0, 'Z': 0.0, '^': 0.0}), defaultdict(<type 'float'>, {'!': 0.0, '#': 0.0, '$': 0.0, '&': 0.0, ',': 0.0, 'A': 0.0, '@': 0.0, 'E': 0.0, 'D': 0.0, 'G': 0.0, 'M': 0.0, 'L': 0.0, 'O': 0.0, 'N': 1.0, 'P': 0.0, 'S': 0.0, 'R': 0.0, 'U': 0.0, 'T': 0.0, 'V': 0.0, 'Y': 0.0, 'X': 0.0, 'Z': 0.0, '^': 0.0})])\n"
     ]
    }
   ],
   "source": [
    "##Show the call to your function and output\n",
    "weights_temp=defaultdict(float, {\"trans_V_V\":0.7,\"trans_N_V\":0.7,\"tag=N_biasterm\":1,\"tag=N_curword=I\":1})\n",
    "print calc_factor_scores(\"I went running\".split(),weights_temp)"
   ]
  },
  {
   "cell_type": "markdown",
   "metadata": {},
   "source": [
    "**Question 5.6** (4 points)\n",
    "\n",
    "Implement `predict_seq()`, which predicts the tags for an input sentence, given a model. It will have to calculate the factor scores, then call Viterbi as a subroutine, then return the best sequence prediction. If your Viterbi implementation does not seem to be working, use the implementation of the greedy decoding\n",
    "algorithm that we provide (it uses the same inputs as `vit_starter.viterbi()`).\n"
   ]
  },
  {
   "cell_type": "code",
   "execution_count": 9,
   "metadata": {
    "collapsed": true
   },
   "outputs": [],
   "source": [
    "## Copy and paste predict_seq() function here\n",
    "def predict_seq(tokens, weights): #Using Viterbi\n",
    "    \"\"\"\n",
    "    IMPLEMENT ME!\n",
    "    takes tokens and weights, calls viterbi and returns the most likely\n",
    "    sequence of tags\n",
    "    \"\"\"\n",
    "    # once you have Ascores and Bscores, could decode with\n",
    "    # predlabels = greedy_decode(Ascores, Bscores, OUTPUT_VOCAB)\n",
    "    (A_factor,B_factors)=calc_factor_scores(tokens,weights)\n",
    "    predlabels=vit_starter.viterbi(A_factor, B_factors, OUTPUT_VOCAB)\n",
    "    return predlabels"
   ]
  },
  {
   "cell_type": "markdown",
   "metadata": {},
   "source": [
    "OK, you're done with the inference part.  Time to put it all together into the parameter learning algorithm and see it go. \n",
    "\n",
    "**Question 5.7** (14 points)\n",
    "\n",
    "Implement `train()`, which does structured perceptron training with the averaged perceptron algorithm. You should train on oct27.train, and evaluate on oct27.dev. You will want to first get it working without averaging, then add averaging to it. Run it for 10 iterations, and print the devset accuracy at each training iteration. Note that we provide evaluation code, which assumes `predict_seq()` and everything it depends on is working properly.\n",
    "\n",
    "For us, here's the performance we get at the first and last iterations, using the features in the starter code (just the bias term and the current word feature, without case normalization).\n",
    "\n",
    "`\n",
    "Training iteration 0\n",
    "DEV RAW EVAL: 2556/4823 = 0.5300 accuracy\n",
    "DEV AVG EVAL: 2986/4823 = 0.6191 accuracy\n",
    "...\n",
    "Training iteration 9\n",
    "DEV RAW EVAL: 3232/4823 = 0.6701 accuracy\n",
    "DEV AVG EVAL: 3341/4823 = 0.6927 accuracy\n",
    "Learned weights for 24361 features from 1000 examples\n",
    "`\n",
    "\n"
   ]
  },
  {
   "cell_type": "code",
   "execution_count": 10,
   "metadata": {},
   "outputs": [
    {
     "name": "stdout",
     "output_type": "stream",
     "text": [
      "Training iteration 0\n",
      "TR  RAW EVAL: 8523/14619 = 0.5830 accuracy\n",
      "DEV RAW EVAL: 2556/4823 = 0.5300 accuracy\n",
      "DEV AVG EVAL: 2984/4823 = 0.6187 accuracy\n",
      "Training iteration 1\n",
      "TR  RAW EVAL: 10643/14619 = 0.7280 accuracy\n",
      "DEV RAW EVAL: 2956/4823 = 0.6129 accuracy\n",
      "DEV AVG EVAL: 3171/4823 = 0.6575 accuracy\n",
      "Training iteration 2\n",
      "TR  RAW EVAL: 10148/14619 = 0.6942 accuracy\n",
      "DEV RAW EVAL: 2692/4823 = 0.5582 accuracy\n",
      "DEV AVG EVAL: 3281/4823 = 0.6803 accuracy\n",
      "Training iteration 3\n",
      "TR  RAW EVAL: 11681/14619 = 0.7990 accuracy\n",
      "DEV RAW EVAL: 3150/4823 = 0.6531 accuracy\n",
      "DEV AVG EVAL: 3311/4823 = 0.6865 accuracy\n",
      "Training iteration 4\n",
      "TR  RAW EVAL: 11722/14619 = 0.8018 accuracy\n",
      "DEV RAW EVAL: 3028/4823 = 0.6278 accuracy\n",
      "DEV AVG EVAL: 3322/4823 = 0.6888 accuracy\n",
      "Training iteration 5\n",
      "TR  RAW EVAL: 11799/14619 = 0.8071 accuracy\n",
      "DEV RAW EVAL: 3003/4823 = 0.6226 accuracy\n",
      "DEV AVG EVAL: 3333/4823 = 0.6911 accuracy\n",
      "Training iteration 6\n",
      "TR  RAW EVAL: 10765/14619 = 0.7364 accuracy\n",
      "DEV RAW EVAL: 2839/4823 = 0.5886 accuracy\n",
      "DEV AVG EVAL: 3340/4823 = 0.6925 accuracy\n",
      "Training iteration 7\n",
      "TR  RAW EVAL: 12355/14619 = 0.8451 accuracy\n",
      "DEV RAW EVAL: 3076/4823 = 0.6378 accuracy\n",
      "DEV AVG EVAL: 3346/4823 = 0.6938 accuracy\n",
      "Training iteration 8\n",
      "TR  RAW EVAL: 11224/14619 = 0.7678 accuracy\n",
      "DEV RAW EVAL: 2947/4823 = 0.6110 accuracy\n",
      "DEV AVG EVAL: 3349/4823 = 0.6944 accuracy\n",
      "Training iteration 9\n",
      "TR  RAW EVAL: 12581/14619 = 0.8606 accuracy\n",
      "DEV RAW EVAL: 3232/4823 = 0.6701 accuracy\n",
      "DEV AVG EVAL: 3341/4823 = 0.6927 accuracy\n",
      "Learned weights for 24361 features from 1000 examples\n"
     ]
    }
   ],
   "source": [
    "train_examples=read_tagging_file('oct27.train')\n",
    "test_examples=read_tagging_file('oct27.dev')\n",
    "weights=train(train_examples, do_averaging=True, devdata=test_examples)"
   ]
  },
  {
   "cell_type": "markdown",
   "metadata": {},
   "source": [
    "**Question 5.8** (6 points)\n",
    "\n",
    "Print out a report of the accuracy rate for each tag in the development set. We provided a function to do this `fancy_eval`. Look at the two sentences in the dev data, and in your writeup show and compare the gold-standard tags versus your model's predictions for them.  Consult the tagset description to understand what's going on.\n",
    "What types of things does your tagger get right and wrong?\n",
    "\n",
    "To look at the examples, you may find it convenient to use `show_predictions` (or write up the equivalent manually).  For example, after 1 iteration of training, we get this output from the first sentence in the devset.\n",
    "(After investigating TV shows that were popular in 2011 when the tweet was authored, we actually think some of the gold-standard tags in this example might be wrong.)\n",
    "\n",
    "\n",
    "              word                 gold pred\n",
    "              ----                 ---- ----\n",
    "              @ciaranyree          @    @   \n",
    "              it                   O    O   \n",
    "              was                  V    V   \n",
    "              on                   P    P   \n",
    "              football             N    ^     *** Error\n",
    "              wives                N    N   \n",
    "              ,                    ,    ,   \n",
    "              one                  $    $   \n",
    "              of                   P    P   \n",
    "              the                  D    D   \n",
    "              players              N    N   \n",
    "              and                  &    &   \n",
    "              his                  D    D   \n",
    "              wife                 N    N   \n",
    "              own                  V    V   \n",
    "              smash                ^    D     *** Error\n",
    "              burger               ^    N     *** Error\n",
    "\n",
    "\n",
    "To do this part, you may find it useful to save your model's weights with pickle.dumps (or json.dumps) and have a short analysis script that loads the model and devdata to do the reports.  If you have to re-train each time you tweak your analysis code, it can be annoying.\n",
    "\n",
    "\n",
    "First, some intuition regarding the accuracies in general.\n",
    "Firstly, we don't have the tag ~ and hence that gives 0/170 in fancy_eval()\n",
    "There's lot of confusion between N (common noun) and Proper noun (^). This makes sense because the type of noun depends a lot on the context\n",
    "Punctuation , has very high accuracy. This is explained by Bscores. Since the set of punctuation (comma, period, exclamation) is fairly small and can easily be determined. \n",
    "\n",
    "Coming to the 2 specific examples: consider the word 'smash'. Here smash is generally used as a verb in English. \n",
    "In this particular case however, it is a proper noun in the context. Thus our model predicted it wrongly as a verb.\n",
    "In the second sentence, look at the pair (Currently[A], laughing[N]). The model made a mistake in guessing for 'Currently' but because in English usually Adjectives are followed by nouns (known as modifier or attributive position). Thus it tagged the next word as noun."
   ]
  },
  {
   "cell_type": "code",
   "execution_count": 11,
   "metadata": {},
   "outputs": [
    {
     "name": "stdout",
     "output_type": "stream",
     "text": [
      "gold O acc 0.9489 (316/333)\n",
      "gold , acc 0.9480 (474/500)\n",
      "gold D acc 0.9295 (290/312)\n",
      "gold & acc 0.9231 (84/91)\n",
      "gold P acc 0.9205 (405/440)\n",
      "gold V acc 0.8322 (625/751)\n",
      "gold L acc 0.7538 (49/65)\n",
      "gold T acc 0.7500 (27/36)\n",
      "gold N acc 0.7000 (462/660)\n",
      "gold R acc 0.6555 (137/209)\n",
      "gold A acc 0.5900 (141/239)\n",
      "gold E acc 0.5577 (29/52)\n",
      "gold ! acc 0.5253 (52/99)\n",
      "gold @ acc 0.4280 (104/243)\n",
      "gold $ acc 0.3605 (31/86)\n",
      "gold U acc 0.2747 (25/91)\n",
      "gold ^ acc 0.2379 (74/311)\n",
      "gold G acc 0.2000 (13/65)\n",
      "gold # acc 0.0577 (3/52)\n",
      "gold S acc 0.0000 (0/5)\n",
      "gold X acc 0.0000 (0/4)\n",
      "gold Z acc 0.0000 (0/9)\n",
      "gold ~ acc 0.0000 (0/170)\n",
      "word                 gold pred\n",
      "----                 ---- ----\n",
      "@ciaranyree          @    @   \n",
      "it                   O    O   \n",
      "was                  V    V   \n",
      "on                   P    P   \n",
      "football             N    N   \n",
      "wives                N    V     *** Error\n",
      ",                    ,    ,   \n",
      "one                  $    $   \n",
      "of                   P    P   \n",
      "the                  D    D   \n",
      "players              N    N   \n",
      "and                  &    &   \n",
      "his                  D    D   \n",
      "wife                 N    N   \n",
      "own                  V    N     *** Error\n",
      "smash                ^    V     *** Error\n",
      "burger               ^    @     *** Error\n",
      "word                 gold pred\n",
      "----                 ---- ----\n",
      "RT                   ~    A     *** Error\n",
      "@TheRealQuailman     @    N     *** Error\n",
      ":                    ~    ,     *** Error\n",
      "Currently            R    A     *** Error\n",
      "laughing             V    N     *** Error\n",
      "at                   P    P   \n",
      "Laker                ^    ^   \n",
      "haters               N    N   \n",
      ".                    ,    ,   \n"
     ]
    }
   ],
   "source": [
    "fancy_eval(test_examples,weights)\n",
    "show_predictions(test_examples[0][0], test_examples[0][1], predict_seq(test_examples[0][0], weights))\n",
    "show_predictions(test_examples[1][0], test_examples[1][1], predict_seq(test_examples[1][0], weights))\n",
    "\n"
   ]
  },
  {
   "cell_type": "markdown",
   "metadata": {},
   "source": [
    "**Question 5.9** (OPTIONAL: 4 Extra Credit points)\n",
    "\n",
    "Improve the features of your tagger to improve accuracy on the development set. This will only require changes to `local_emission_features`. Implement at least 4 new types of features. Report your tagger's accuracy with these improvements. Please make a table that reports accuracy from adding different features. The first row should be the basic system, and the last row should be the fanciest system. Rows in between should report different combinations of features. One simple way to do this is, if you have 4 different feature types, to run 4 experiments where in each one, you add only one feature type to the basic system. For example:\n",
    "\n",
    "<img src=\"3.png\"> \n",
    "\n",
    "Hint: if you make features about the first character of a word, that helps a lot for the # (hashtag) and @ (at-mention) tags.  The URL tag is easy to get too with a similar form of character affix analysis. Character affixes help lots of other tags too. Also, if you have a feature that looks at the word at position $t$, you can make new versions of it that look to the left or right of the $t^{th}$ position in question: for example, 'word_to_left=the'.\n"
   ]
  },
  {
   "cell_type": "code",
   "execution_count": null,
   "metadata": {
    "collapsed": true
   },
   "outputs": [],
   "source": [
    "#System: Accuracy (pickle file name) \n",
    "\n",
    "#basic: 0.6927 (\"weights.p\")\n",
    "#basic+word_to_left: 0.7014 (\"weights_left.p\")\n",
    "#basic+suffixes: 0.7035 (\"weights_suffix.p\")\n",
    "#basic+length & Caps: 0.7168 (\"weights_len.p\")\n",
    "#basic+hashtag & @ & URL tag: 0.7603 (\"weights_url.p\")\n",
    "#basic+all_combined: 0.7864 (\"weights_all.p\")\n",
    "\n",
    "\n"
   ]
  }
 ],
 "metadata": {
  "anaconda-cloud": {},
  "kernelspec": {
   "display_name": "Python 2",
   "language": "python",
   "name": "python2"
  },
  "language_info": {
   "codemirror_mode": {
    "name": "ipython",
    "version": 2
   },
   "file_extension": ".py",
   "mimetype": "text/x-python",
   "name": "python",
   "nbconvert_exporter": "python",
   "pygments_lexer": "ipython2",
   "version": "2.7.6"
  }
 },
 "nbformat": 4,
 "nbformat_minor": 1
}
